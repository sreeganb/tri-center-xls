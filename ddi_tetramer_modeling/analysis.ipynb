{
 "cells": [
  {
   "cell_type": "markdown",
   "id": "cd3cd265",
   "metadata": {},
   "source": [
    "**Code that reads in models in rmf3 format and reads in crosslinking data, and then maps the crosslinks onto the structure in the rmf3 file, or creates a script that will be read in by chimerax to map the crosslinks and visualize it there.**"
   ]
  },
  {
   "cell_type": "code",
   "execution_count": 6,
   "id": "5e113941",
   "metadata": {},
   "outputs": [],
   "source": [
    "import os\n",
    "import IMP\n",
    "import RMF\n",
    "import IMP.pmi.output\n",
    "from Bio.PDB import PDBParser, Superimposer, PDBExceptions\n",
    "import matplotlib.pyplot as plt\n",
    "import numpy as np\n",
    "import pandas as pd\n",
    "import logging\n",
    "from multiprocessing import Pool, cpu_count\n",
    "from functools import partial\n",
    "import shutil"
   ]
  },
  {
   "cell_type": "code",
   "execution_count": null,
   "id": "6ee895a9",
   "metadata": {},
   "outputs": [],
   "source": [
    "# read in rmf3 file and extract hierarchy\n",
    "# Configure logging\n",
    "logging.basicConfig(level=logging.INFO, format='%(asctime)s - %(levelname)s - %(message)s')\n",
    "\n",
    "def write_pdb(hier, pdb_head):\n",
    "    \"\"\"\n",
    "    Write PDB files for each chain in the hierarchy and combine them into a single PDB file.\n",
    "\n",
    "    Args:\n",
    "        hier (IMP.atom.Hierarchy): The hierarchy containing the chains.\n",
    "        pdb_head (str): The prefix for the output PDB file names.\n",
    "\n",
    "    Returns:\n",
    "        str: Path to the combined PDB file.\n",
    "    \"\"\"\n",
    "    output_dir = 'output_pdbs'\n",
    "    os.makedirs(output_dir, exist_ok=True)\n",
    "\n",
    "    chains = hier.get_children()[0].get_children()\n",
    "    pdb_files = []\n",
    "    \n",
    "    # Write individual PDB files for each chain\n",
    "    for i, ch in enumerate(chains):\n",
    "        if i < 60:\n",
    "            continue        \n",
    "        output_pdb_path = os.path.join(output_dir, f'{pdb_head}_{i}.pdb')\n",
    "        o = IMP.pmi.output.Output()\n",
    "        o.init_pdb(output_pdb_path, ch)\n",
    "        o.write_pdb(output_pdb_path)\n",
    "        pdb_files.append(output_pdb_path)\n",
    "\n",
    "    # Combine individual PDB files into a single PDB file\n",
    "    final_pdb_path = os.path.join(output_dir, f'{pdb_head}.pdb')\n",
    "    with open(final_pdb_path, 'w') as outfile:\n",
    "        for fname in pdb_files:\n",
    "            with open(fname) as infile:\n",
    "                for line in infile:\n",
    "                    if line.startswith('ATOM'):\n",
    "                        outfile.write(line)\n",
    "\n",
    "    # Delete individual chain PDB files\n",
    "    for fname in pdb_files:\n",
    "        os.remove(fname)\n",
    "    \n",
    "    return final_pdb_path\n",
    "\n",
    "def process_rmf3_frame(rmf_filename, frame_number):\n",
    "    imp_model = IMP.Model()\n",
    "    with RMF.open_rmf_file_read_only(rmf_filename) as rmf_file:\n",
    "        hier = IMP.rmf.create_hierarchies(rmf_file, imp_model)\n",
    "        IMP.rmf.load_frame(rmf_file, RMF.FrameID(frame_number))\n",
    "        pdb_file = write_pdb(hier[0], f'test_frame_{frame_number}')"
   ]
  },
  {
   "cell_type": "markdown",
   "id": "a6a3d977",
   "metadata": {},
   "source": [
    "## Crosslink Mapping Strategy\n",
    "\n",
    "### Handling Ambiguous Crosslinks\n",
    "\n",
    "When mapping crosslinks to structural models, we need to account for protein copy numbers and the resulting ambiguity in crosslink assignments.\n",
    "\n",
    "#### Scenarios:\n",
    "\n",
    "**Inter-protein crosslinks (p1 ↔ p2)**\n",
    "- If protein p1 has copy number = 2 and protein p2 has copy number = 2\n",
    "- A crosslink between p1 and p2 can have **4 possible mappings**:\n",
    "    - p1_0 ↔ p2_0\n",
    "    - p1_0 ↔ p2_1  \n",
    "    - p1_1 ↔ p2_0\n",
    "    - p1_1 ↔ p2_1\n",
    "\n",
    "**Intra-protein crosslinks (p1 ↔ p1)**\n",
    "\n",
    "*Same residue numbers:*\n",
    "- Must be between **different copies only**\n",
    "- Mapping: p1_0 ↔ p1_1\n",
    "\n",
    "*Different residue numbers:*\n",
    "- Can be between **same copy or different copies**\n",
    "- Possible mappings:\n",
    "    - p1_0 ↔ p1_0 (intra-copy)\n",
    "    - p1_0 ↔ p1_1 (inter-copy)\n",
    "    - p1_1 ↔ p1_0 (inter-copy)\n",
    "    - p1_1 ↔ p1_1 (intra-copy)"
   ]
  },
  {
   "cell_type": "code",
   "execution_count": null,
   "id": "022f4641",
   "metadata": {},
   "outputs": [],
   "source": [
    "# map chain ID to protein names\n",
    "chain_to_protein = {\n",
    "    'A': 'DDI1',\n",
    "    'B': 'DDI1',\n",
    "    'C': 'DDI2',\n",
    "    'D': 'DDI2'\n",
    "}"
   ]
  }
 ],
 "metadata": {
  "kernelspec": {
   "display_name": "imptorch-latest-gpu",
   "language": "python",
   "name": "python3"
  },
  "language_info": {
   "codemirror_mode": {
    "name": "ipython",
    "version": 3
   },
   "file_extension": ".py",
   "mimetype": "text/x-python",
   "name": "python",
   "nbconvert_exporter": "python",
   "pygments_lexer": "ipython3",
   "version": "3.12.9"
  }
 },
 "nbformat": 4,
 "nbformat_minor": 5
}
