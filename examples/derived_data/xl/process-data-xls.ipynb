{
 "cells": [
  {
   "cell_type": "code",
   "execution_count": 1,
   "metadata": {},
   "outputs": [],
   "source": [
    "import pandas as pd\n",
    "import numpy as np\n",
    "import math\n",
    "import itertools\n",
    "import matplotlib\n",
    "import matplotlib.pyplot as plt\n",
    "import matplotlib.gridspec as gridspec\n",
    "from mpl_toolkits.axes_grid1.inset_locator import (inset_axes, InsetPosition, mark_inset)\n",
    "import math\n",
    "import copy\n",
    "import re\n",
    "from collections import OrderedDict \n",
    "import Bio\n",
    "from Bio import SeqIO\n",
    "\n",
    "#from xls_analysis_classes import *\n",
    "\n",
    "matplotlib.rcParams.update({'font.size': 10})"
   ]
  },
  {
   "cell_type": "code",
   "execution_count": 141,
   "metadata": {},
   "outputs": [],
   "source": [
    "d = pd.read_csv('./proteasome-tri-crosslinks.csv', sep = ',')\n",
    "data = pd.DataFrame(d)\n",
    "data.insert(2, 'dummy A', 'prot1')\n",
    "data.insert(3, 'dummy XLA', 'K1')\n",
    "data.insert(6, 'dummy B', 'prot1')\n",
    "data.insert(7, 'dummy XLB', 'K1')\n",
    "data.insert(10, 'dummy C', 'prot1')\n",
    "data.insert(11, 'dummy XLC', 'K1')\n",
    "#print(data)\n",
    "df1 = data.iloc[:, :4].join(data.iloc[:, 12:13]).join(data.iloc[:, 15:16]).join(data.iloc[:, 18:32]).join(data.iloc[:, 46:53])\n",
    "#print(df1.columns)\n",
    "df2 = data.iloc[:, 4:8].join(data.iloc[:, 13:14]).join(data.iloc[:, 16:17]).join(data.iloc[:, 18:25]).join(data.iloc[:, 32:39]).join(data.iloc[:, 46:53])\n",
    "#print(df2.columns)\n",
    "df3 = data.iloc[:, 8:12].join(data.iloc[:, 14:15]).join(data.iloc[:, 17:18]).join(data.iloc[:, 18:25]).join(data.iloc[:, 39:46]).join(data.iloc[:, 46:53])\n",
    "#print(df3.columns)\n",
    "df1.to_csv('proteasome-tri-crosslinks-1.csv', index = False)\n",
    "df2.to_csv('proteasome-tri-crosslinks-2.csv', index = False)\n",
    "df3.to_csv('proteasome-tri-crosslinks-3.csv', index = False)\n",
    "print(df3)"
   ]
  }
 ],
 "metadata": {
  "kernelspec": {
   "display_name": "Python 3",
   "language": "python",
   "name": "python3"
  },
  "language_info": {
   "codemirror_mode": {
    "name": "ipython",
    "version": 3
   },
   "file_extension": ".py",
   "mimetype": "text/x-python",
   "name": "python",
   "nbconvert_exporter": "python",
   "pygments_lexer": "ipython3",
   "version": "3.12.4"
  }
 },
 "nbformat": 4,
 "nbformat_minor": 2
}
