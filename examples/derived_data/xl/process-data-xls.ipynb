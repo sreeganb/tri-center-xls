{
 "cells": [
  {
   "cell_type": "code",
   "execution_count": 7,
   "metadata": {},
   "outputs": [],
   "source": [
    "import pandas as pd\n",
    "import numpy as np\n",
    "import math\n",
    "import itertools\n",
    "import matplotlib\n",
    "import matplotlib.pyplot as plt\n",
    "import matplotlib.gridspec as gridspec\n",
    "from mpl_toolkits.axes_grid1.inset_locator import (inset_axes, InsetPosition, mark_inset)\n",
    "import math\n",
    "import copy\n",
    "import re\n",
    "from collections import OrderedDict \n",
    "import Bio\n",
    "from Bio import SeqIO\n",
    "import xls_analysis_classes\n",
    "from xls_analysis_classes import *\n",
    "\n",
    "#from xls_analysis_classes import *\n",
    "\n",
    "matplotlib.rcParams.update({'font.size': 10})"
   ]
  },
  {
   "cell_type": "code",
   "execution_count": 24,
   "metadata": {},
   "outputs": [
    {
     "name": "stdout",
     "output_type": "stream",
     "text": [
      "Index(['Subunit A', 'XL A', 'Subunit DB', 'XL DB', 'Subunit Name A',\n",
      "       'Common/Gene Name A', 'Common/Gene Name B', 'XL Scan', 'XL RT',\n",
      "       'XL m/z', 'XL Charge', 'XL PPM', 'Corr. XL PPM', 'Corr. XL Isotope',\n",
      "       'm/z A', 'Charge A', 'Sequence A', 'Protein Mods A', 'PPM A', 'Score A',\n",
      "       'EV A', 'Ambiguous', 'Redundant', 'Subunit Names', 'Linkage Info',\n",
      "       'Redundant Count', 'Unique Count', 'CLMS-CSV'],\n",
      "      dtype='object')\n"
     ]
    }
   ],
   "source": [
    "d = pd.read_csv('./proteasome-tri-crosslinks.csv', sep = ',')\n",
    "data = pd.DataFrame(d)\n",
    "#data.insert(2, 'dummy A', 'prot1')\n",
    "#data.insert(3, 'dummy XLA', 'K1')\n",
    "data.insert(2, 'Subunit DB', 'prot1')\n",
    "data.insert(3, 'XL DB', 'K1')\n",
    "#\n",
    "data.insert(6, 'dummy B', 'prot1')\n",
    "data.insert(7, 'dummy XLB', 'K1')\n",
    "data.insert(10, 'dummy C', 'prot1')\n",
    "data.insert(11, 'dummy XLC', 'K1')\n",
    "#print(data)\n",
    "df1 = data.iloc[:, :4].join(data.iloc[:, 12:13]).join(data.iloc[:, 15:16]).join(data.iloc[:, 18:32]).join(data.iloc[:, 46:53])\n",
    "df1.insert(6, 'Common/Gene Name B', 'prot1')\n",
    "print(df1.columns)\n",
    "df2 = data.iloc[:, 4:8].join(data.iloc[:, 13:14]).join(data.iloc[:, 16:17]).join(data.iloc[:, 18:25]).join(data.iloc[:, 32:39]).join(data.iloc[:, 46:53])\n",
    "#print(df2.columns)\n",
    "df3 = data.iloc[:, 8:12].join(data.iloc[:, 14:15]).join(data.iloc[:, 17:18]).join(data.iloc[:, 18:25]).join(data.iloc[:, 39:46]).join(data.iloc[:, 46:53])\n",
    "#print(df3.columns)\n",
    "df1.to_csv('proteasome-tri-crosslinks-1.csv', index = False)\n",
    "df2.to_csv('proteasome-tri-crosslinks-2.csv', index = False)\n",
    "df3.to_csv('proteasome-tri-crosslinks-3.csv', index = False)\n",
    "#print(df3)"
   ]
  },
  {
   "cell_type": "code",
   "execution_count": 27,
   "metadata": {},
   "outputs": [
    {
     "name": "stdout",
     "output_type": "stream",
     "text": [
      "553\n"
     ]
    },
    {
     "ename": "KeyError",
     "evalue": "\"['Subunit Name B'] not in index\"",
     "output_type": "error",
     "traceback": [
      "\u001b[0;31m---------------------------------------------------------------------------\u001b[0m",
      "\u001b[0;31mKeyError\u001b[0m                                  Traceback (most recent call last)",
      "Cell \u001b[0;32mIn[27], line 4\u001b[0m\n\u001b[1;32m      2\u001b[0m \u001b[38;5;28mprint\u001b[39m(n1)\n\u001b[1;32m      3\u001b[0m \u001b[38;5;66;03m# Get protein names\u001b[39;00m\n\u001b[0;32m----> 4\u001b[0m prots1 \u001b[38;5;241m=\u001b[39m \u001b[43mget_protein_names\u001b[49m\u001b[43m(\u001b[49m\u001b[43mdf1\u001b[49m\u001b[43m)\u001b[49m\n\u001b[1;32m      5\u001b[0m unique_links \u001b[38;5;241m=\u001b[39m pd\u001b[38;5;241m.\u001b[39munique(df1[\u001b[38;5;124m'\u001b[39m\u001b[38;5;124mLinkage Info\u001b[39m\u001b[38;5;124m'\u001b[39m])\n\u001b[1;32m      6\u001b[0m \u001b[38;5;66;03m#print(prots1)\u001b[39;00m\n",
      "File \u001b[0;32m~/git/tri-center-xls/examples/derived_data/xl/xls_analysis_classes.py:39\u001b[0m, in \u001b[0;36mget_protein_names\u001b[0;34m(DB)\u001b[0m\n\u001b[1;32m     36\u001b[0m         \u001b[38;5;28;01melse\u001b[39;00m:\n\u001b[1;32m     37\u001b[0m             prots_conv[name] \u001b[38;5;241m=\u001b[39m t\n\u001b[0;32m---> 39\u001b[0m SB \u001b[38;5;241m=\u001b[39m \u001b[43mDB\u001b[49m\u001b[43m[\u001b[49m\u001b[43m[\u001b[49m\u001b[38;5;124;43m'\u001b[39;49m\u001b[38;5;124;43mCommon/Gene Name B\u001b[39;49m\u001b[38;5;124;43m'\u001b[39;49m\u001b[43m,\u001b[49m\u001b[38;5;124;43m'\u001b[39;49m\u001b[38;5;124;43mSubunit Name B\u001b[39;49m\u001b[38;5;124;43m'\u001b[39;49m\u001b[43m]\u001b[49m\u001b[43m]\u001b[49m\n\u001b[1;32m     40\u001b[0m \u001b[38;5;28;01mfor\u001b[39;00m index, row \u001b[38;5;129;01min\u001b[39;00m SB\u001b[38;5;241m.\u001b[39miterrows():\n\u001b[1;32m     41\u001b[0m     name \u001b[38;5;241m=\u001b[39m row[\u001b[38;5;124m'\u001b[39m\u001b[38;5;124mCommon/Gene Name B\u001b[39m\u001b[38;5;124m'\u001b[39m]\n",
      "File \u001b[0;32m/usr/lib64/python3.12/site-packages/pandas/core/frame.py:4096\u001b[0m, in \u001b[0;36mDataFrame.__getitem__\u001b[0;34m(self, key)\u001b[0m\n\u001b[1;32m   4094\u001b[0m     \u001b[38;5;28;01mif\u001b[39;00m is_iterator(key):\n\u001b[1;32m   4095\u001b[0m         key \u001b[38;5;241m=\u001b[39m \u001b[38;5;28mlist\u001b[39m(key)\n\u001b[0;32m-> 4096\u001b[0m     indexer \u001b[38;5;241m=\u001b[39m \u001b[38;5;28;43mself\u001b[39;49m\u001b[38;5;241;43m.\u001b[39;49m\u001b[43mcolumns\u001b[49m\u001b[38;5;241;43m.\u001b[39;49m\u001b[43m_get_indexer_strict\u001b[49m\u001b[43m(\u001b[49m\u001b[43mkey\u001b[49m\u001b[43m,\u001b[49m\u001b[43m \u001b[49m\u001b[38;5;124;43m\"\u001b[39;49m\u001b[38;5;124;43mcolumns\u001b[39;49m\u001b[38;5;124;43m\"\u001b[39;49m\u001b[43m)\u001b[49m[\u001b[38;5;241m1\u001b[39m]\n\u001b[1;32m   4098\u001b[0m \u001b[38;5;66;03m# take() does not accept boolean indexers\u001b[39;00m\n\u001b[1;32m   4099\u001b[0m \u001b[38;5;28;01mif\u001b[39;00m \u001b[38;5;28mgetattr\u001b[39m(indexer, \u001b[38;5;124m\"\u001b[39m\u001b[38;5;124mdtype\u001b[39m\u001b[38;5;124m\"\u001b[39m, \u001b[38;5;28;01mNone\u001b[39;00m) \u001b[38;5;241m==\u001b[39m \u001b[38;5;28mbool\u001b[39m:\n",
      "File \u001b[0;32m/usr/lib64/python3.12/site-packages/pandas/core/indexes/base.py:6200\u001b[0m, in \u001b[0;36mIndex._get_indexer_strict\u001b[0;34m(self, key, axis_name)\u001b[0m\n\u001b[1;32m   6197\u001b[0m \u001b[38;5;28;01melse\u001b[39;00m:\n\u001b[1;32m   6198\u001b[0m     keyarr, indexer, new_indexer \u001b[38;5;241m=\u001b[39m \u001b[38;5;28mself\u001b[39m\u001b[38;5;241m.\u001b[39m_reindex_non_unique(keyarr)\n\u001b[0;32m-> 6200\u001b[0m \u001b[38;5;28;43mself\u001b[39;49m\u001b[38;5;241;43m.\u001b[39;49m\u001b[43m_raise_if_missing\u001b[49m\u001b[43m(\u001b[49m\u001b[43mkeyarr\u001b[49m\u001b[43m,\u001b[49m\u001b[43m \u001b[49m\u001b[43mindexer\u001b[49m\u001b[43m,\u001b[49m\u001b[43m \u001b[49m\u001b[43maxis_name\u001b[49m\u001b[43m)\u001b[49m\n\u001b[1;32m   6202\u001b[0m keyarr \u001b[38;5;241m=\u001b[39m \u001b[38;5;28mself\u001b[39m\u001b[38;5;241m.\u001b[39mtake(indexer)\n\u001b[1;32m   6203\u001b[0m \u001b[38;5;28;01mif\u001b[39;00m \u001b[38;5;28misinstance\u001b[39m(key, Index):\n\u001b[1;32m   6204\u001b[0m     \u001b[38;5;66;03m# GH 42790 - Preserve name from an Index\u001b[39;00m\n",
      "File \u001b[0;32m/usr/lib64/python3.12/site-packages/pandas/core/indexes/base.py:6252\u001b[0m, in \u001b[0;36mIndex._raise_if_missing\u001b[0;34m(self, key, indexer, axis_name)\u001b[0m\n\u001b[1;32m   6249\u001b[0m     \u001b[38;5;28;01mraise\u001b[39;00m \u001b[38;5;167;01mKeyError\u001b[39;00m(\u001b[38;5;124mf\u001b[39m\u001b[38;5;124m\"\u001b[39m\u001b[38;5;124mNone of [\u001b[39m\u001b[38;5;132;01m{\u001b[39;00mkey\u001b[38;5;132;01m}\u001b[39;00m\u001b[38;5;124m] are in the [\u001b[39m\u001b[38;5;132;01m{\u001b[39;00maxis_name\u001b[38;5;132;01m}\u001b[39;00m\u001b[38;5;124m]\u001b[39m\u001b[38;5;124m\"\u001b[39m)\n\u001b[1;32m   6251\u001b[0m not_found \u001b[38;5;241m=\u001b[39m \u001b[38;5;28mlist\u001b[39m(ensure_index(key)[missing_mask\u001b[38;5;241m.\u001b[39mnonzero()[\u001b[38;5;241m0\u001b[39m]]\u001b[38;5;241m.\u001b[39munique())\n\u001b[0;32m-> 6252\u001b[0m \u001b[38;5;28;01mraise\u001b[39;00m \u001b[38;5;167;01mKeyError\u001b[39;00m(\u001b[38;5;124mf\u001b[39m\u001b[38;5;124m\"\u001b[39m\u001b[38;5;132;01m{\u001b[39;00mnot_found\u001b[38;5;132;01m}\u001b[39;00m\u001b[38;5;124m not in index\u001b[39m\u001b[38;5;124m\"\u001b[39m)\n",
      "\u001b[0;31mKeyError\u001b[0m: \"['Subunit Name B'] not in index\""
     ]
    }
   ],
   "source": [
    "n1 = get_unique_links(df1)\n",
    "print(n1)\n",
    "# Get protein names\n",
    "#prots1 = get_protein_names(df1)\n",
    "unique_links = pd.unique(df1['Linkage Info'])\n",
    "#print(prots1)"
   ]
  }
 ],
 "metadata": {
  "kernelspec": {
   "display_name": "Python 3",
   "language": "python",
   "name": "python3"
  },
  "language_info": {
   "codemirror_mode": {
    "name": "ipython",
    "version": 3
   },
   "file_extension": ".py",
   "mimetype": "text/x-python",
   "name": "python",
   "nbconvert_exporter": "python",
   "pygments_lexer": "ipython3",
   "version": "3.12.4"
  }
 },
 "nbformat": 4,
 "nbformat_minor": 2
}
