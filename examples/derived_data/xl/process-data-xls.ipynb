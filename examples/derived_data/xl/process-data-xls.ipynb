{
 "cells": [
  {
   "cell_type": "code",
   "execution_count": 1,
   "metadata": {},
   "outputs": [],
   "source": [
    "import pandas as pd\n",
    "import numpy as np\n",
    "import math\n",
    "import itertools\n",
    "import matplotlib\n",
    "import matplotlib.pyplot as plt\n",
    "import matplotlib.gridspec as gridspec\n",
    "from mpl_toolkits.axes_grid1.inset_locator import (inset_axes, InsetPosition, mark_inset)\n",
    "import math\n",
    "import copy\n",
    "import re\n",
    "from collections import OrderedDict \n",
    "import Bio\n",
    "from Bio import SeqIO\n",
    "import xls_analysis_classes\n",
    "from xls_analysis_classes import *\n",
    "\n",
    "#from xls_analysis_classes import *\n",
    "\n",
    "matplotlib.rcParams.update({'font.size': 10})"
   ]
  },
  {
   "cell_type": "code",
   "execution_count": 3,
   "metadata": {},
   "outputs": [
    {
     "name": "stdout",
     "output_type": "stream",
     "text": [
      "Index(['Subunit A', 'XL A', 'Subunit DB', 'XL DB', 'Subunit Name A',\n",
      "       'Common/Gene Name A', 'Common/Gene Name B', 'XL Scan', 'XL RT',\n",
      "       'XL m/z', 'XL Charge', 'XL PPM', 'Corr. XL PPM', 'Corr. XL Isotope',\n",
      "       'm/z A', 'Charge A', 'Sequence A', 'Protein Mods A', 'PPM A', 'Score A',\n",
      "       'EV A', 'Ambiguous', 'Redundant', 'Subunit Names', 'Linkage Info',\n",
      "       'Redundant Count', 'Unique Count', 'CLMS-CSV'],\n",
      "      dtype='object')\n"
     ]
    }
   ],
   "source": [
    "d = pd.read_csv('./proteasome-tri-crosslinks.csv', sep = ',')\n",
    "data = pd.DataFrame(d)\n",
    "#data.insert(2, 'dummy A', 'prot1')\n",
    "#data.insert(3, 'dummy XLA', 'K1')\n",
    "data.insert(2, 'Subunit DB', 'prot1')\n",
    "data.insert(3, 'XL DB', 'K1')\n",
    "#\n",
    "data.insert(6, 'dummy B', 'prot1')\n",
    "data.insert(7, 'dummy XLB', 'K1')\n",
    "data.insert(10, 'dummy C', 'prot1')\n",
    "data.insert(11, 'dummy XLC', 'K1')\n",
    "#print(data)\n",
    "df1 = data.iloc[:, :4].join(data.iloc[:, 12:13]).join(data.iloc[:, 15:16]).join(data.iloc[:, 18:32]).join(data.iloc[:, 46:53])\n",
    "df1.insert(6, 'Common/Gene Name B', 'prot1')\n",
    "print(df1.columns)\n",
    "df2 = data.iloc[:, 4:8].join(data.iloc[:, 13:14]).join(data.iloc[:, 16:17]).join(data.iloc[:, 18:25]).join(data.iloc[:, 32:39]).join(data.iloc[:, 46:53])\n",
    "#print(df2.columns)\n",
    "df3 = data.iloc[:, 8:12].join(data.iloc[:, 14:15]).join(data.iloc[:, 17:18]).join(data.iloc[:, 18:25]).join(data.iloc[:, 39:46]).join(data.iloc[:, 46:53])\n",
    "#print(df3.columns)\n",
    "df1.to_csv('proteasome-tri-crosslinks-1.csv', index = False)\n",
    "df2.to_csv('proteasome-tri-crosslinks-2.csv', index = False)\n",
    "df3.to_csv('proteasome-tri-crosslinks-3.csv', index = False)\n",
    "#print(df3)"
   ]
  },
  {
   "cell_type": "code",
   "execution_count": 11,
   "metadata": {},
   "outputs": [
    {
     "name": "stdout",
     "output_type": "stream",
     "text": [
      "     Rpt3           6B\n",
      "0    Rpt4          10B\n",
      "1    Rpt6            8\n",
      "2    Rpt2            4\n",
      "3    Rpt5           6A\n",
      "4    Rpt1            7\n",
      "5    Rpn6    non-ATP 2\n",
      "6   Rpn11   non-ATP 14\n",
      "7    Rpn7    non-ATP 6\n",
      "8    Rpn3    non-ATP 3\n",
      "9    Rpn8    non-ATP 7\n",
      "10   Rpn2    non-ATP 1\n",
      "11   Rpn5   non-ATP 12\n",
      "12   Rpn9   non-ATP 13\n"
     ]
    }
   ],
   "source": [
    "# open a file which is down two directories and called \"definitions.txt\" and read it\n",
    "# open this file as a pandas dataframe and name the columns as genename, genericname\n",
    "heads = ['genename', 'genericname']\n",
    "dnames = pd.read_csv('../../definitions.txt', header=None, names=heads)\n",
    "print(dnames)"
   ]
  }
 ],
 "metadata": {
  "kernelspec": {
   "display_name": "Python 3",
   "language": "python",
   "name": "python3"
  },
  "language_info": {
   "codemirror_mode": {
    "name": "ipython",
    "version": 3
   },
   "file_extension": ".py",
   "mimetype": "text/x-python",
   "name": "python",
   "nbconvert_exporter": "python",
   "pygments_lexer": "ipython3",
   "version": "3.12.4"
  }
 },
 "nbformat": 4,
 "nbformat_minor": 2
}
