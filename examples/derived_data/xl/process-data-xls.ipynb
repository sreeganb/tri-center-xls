{
 "cells": [
  {
   "cell_type": "code",
   "execution_count": 6,
   "metadata": {},
   "outputs": [],
   "source": [
    "import pandas as pd\n",
    "import numpy as np\n",
    "import math\n",
    "import itertools\n",
    "import matplotlib\n",
    "import matplotlib.pyplot as plt\n",
    "import matplotlib.gridspec as gridspec\n",
    "from mpl_toolkits.axes_grid1.inset_locator import (inset_axes, InsetPosition, mark_inset)\n",
    "import math\n",
    "import copy\n",
    "import re\n",
    "from collections import OrderedDict \n",
    "import Bio\n",
    "from Bio import SeqIO\n",
    "import xls_analysis_classes\n",
    "from xls_analysis_classes import *\n",
    "\n",
    "#from xls_analysis_classes import *\n",
    "\n",
    "matplotlib.rcParams.update({'font.size': 10})"
   ]
  },
  {
   "cell_type": "code",
   "execution_count": 7,
   "metadata": {},
   "outputs": [
    {
     "name": "stdout",
     "output_type": "stream",
     "text": [
      "Index(['Subunit A', 'XL A', 'Subunit DB', 'XL DB', 'Subunit Name A',\n",
      "       'Common/Gene Name A', 'Common/Gene Name B', 'XL Scan', 'XL RT',\n",
      "       'XL m/z', 'XL Charge', 'XL PPM', 'Corr. XL PPM', 'Corr. XL Isotope',\n",
      "       'm/z A', 'Charge A', 'Sequence A', 'Protein Mods A', 'PPM A', 'Score A',\n",
      "       'EV A', 'Ambiguous', 'Redundant', 'Subunit Names', 'Linkage Info',\n",
      "       'Redundant Count', 'Unique Count', 'CLMS-CSV'],\n",
      "      dtype='object')\n"
     ]
    }
   ],
   "source": [
    "d = pd.read_csv('./proteasome-tri-crosslinks.csv', sep = ',')\n",
    "data = pd.DataFrame(d)\n",
    "#data.insert(2, 'dummy A', 'prot1')\n",
    "#data.insert(3, 'dummy XLA', 'K1')\n",
    "data.insert(2, 'Subunit DB', 'prot1')\n",
    "data.insert(3, 'XL DB', 'K1')\n",
    "#\n",
    "data.insert(6, 'dummy B', 'prot1')\n",
    "data.insert(7, 'dummy XLB', 'K1')\n",
    "data.insert(10, 'dummy C', 'prot1')\n",
    "data.insert(11, 'dummy XLC', 'K1')\n",
    "#print(data)\n",
    "df1 = data.iloc[:, :4].join(data.iloc[:, 12:13]).join(data.iloc[:, 15:16]).join(data.iloc[:, 18:32]).join(data.iloc[:, 46:53])\n",
    "df1.insert(6, 'Common/Gene Name B', 'prot1')\n",
    "print(df1.columns)\n",
    "df2 = data.iloc[:, 4:8].join(data.iloc[:, 13:14]).join(data.iloc[:, 16:17]).join(data.iloc[:, 18:25]).join(data.iloc[:, 32:39]).join(data.iloc[:, 46:53])\n",
    "#print(df2.columns)\n",
    "df3 = data.iloc[:, 8:12].join(data.iloc[:, 14:15]).join(data.iloc[:, 17:18]).join(data.iloc[:, 18:25]).join(data.iloc[:, 39:46]).join(data.iloc[:, 46:53])\n",
    "#print(df3.columns)\n",
    "df1.to_csv('proteasome-tri-crosslinks-1.csv', index = False)\n",
    "df2.to_csv('proteasome-tri-crosslinks-2.csv', index = False)\n",
    "df3.to_csv('proteasome-tri-crosslinks-3.csv', index = False)\n",
    "#print(df3)"
   ]
  },
  {
   "cell_type": "code",
   "execution_count": 24,
   "metadata": {},
   "outputs": [
    {
     "name": "stdout",
     "output_type": "stream",
     "text": [
      "36     I\n",
      "37     I\n",
      "38     I\n",
      "39     I\n",
      "40     I\n",
      "      ..\n",
      "156    J\n",
      "157    J\n",
      "158    J\n",
      "159    J\n",
      "160    J\n",
      "Name: Chain ID C, Length: 125, dtype: object\n",
      "Index(['Subunit A', 'XL A', 'Subunit B', 'XL B', 'Subunit C', 'XL C',\n",
      "       'Subunit Name A', 'Subunit Name B', 'Subunit Name C',\n",
      "       'Common/Gene Name A', 'Common/Gene Name B', 'Common/Gene Name C',\n",
      "       'XL Scan', 'XL RT', 'XL m/z', 'XL Charge', 'XL PPM', 'Corr. XL PPM',\n",
      "       'Corr. XL Isotope', 'm/z A', 'Charge A', 'Sequence A', 'Protein Mods A',\n",
      "       'PPM A', 'Score A', 'EV A', 'm/z B', 'Charge B', 'Sequence B',\n",
      "       'Protein Mods B', 'PPM B', 'Score B', 'EV B', 'm/z C', 'Charge C',\n",
      "       'Sequence C', 'Protein Mods C', 'PPM C', 'Score C', 'EV C', 'Ambiguous',\n",
      "       'Redundant', 'Subunit Names', 'Linkage Info', 'Redundant Count',\n",
      "       'Unique Count', 'CLMS-CSV', 'Chain ID', 'Chain ID A', 'Chain ID B',\n",
      "       'Chain ID C'],\n",
      "      dtype='object')\n"
     ]
    }
   ],
   "source": [
    "# open a file which is down two directories and called \"definitions.txt\" and read it\n",
    "# open this file as a pandas dataframe and name the columns as genename, genericname\n",
    "heads = ['genename', 'genericname']\n",
    "dnames = pd.read_csv('../../definitions.txt', names = heads)\n",
    "\n",
    "# Define a function to set the chain ID based on the gene value\n",
    "def set_chain_id(gene):\n",
    "    if gene == 'Rpt2':\n",
    "        return 'I'\n",
    "    elif gene == 'Rpt4':\n",
    "        return 'L'\n",
    "    elif gene == 'Rpt5':\n",
    "        return 'M'\n",
    "    elif gene == 'Rpt6': \n",
    "        return 'J'\n",
    "    elif gene == 'Rpt1':\n",
    "        return 'H'\n",
    "    elif gene == 'Rpt3':\n",
    "        return 'K'\n",
    "d['Chain ID A'] = d['Common/Gene Name A'].apply(set_chain_id)\n",
    "d['Chain ID B'] = d['Common/Gene Name B'].apply(set_chain_id)\n",
    "d['Chain ID C'] = d['Common/Gene Name C'].apply(set_chain_id)\n",
    "print(d['Chain ID C'].dropna())\n",
    "print(d.columns)"
   ]
  }
 ],
 "metadata": {
  "kernelspec": {
   "display_name": "Python 3",
   "language": "python",
   "name": "python3"
  },
  "language_info": {
   "codemirror_mode": {
    "name": "ipython",
    "version": 3
   },
   "file_extension": ".py",
   "mimetype": "text/x-python",
   "name": "python",
   "nbconvert_exporter": "python",
   "pygments_lexer": "ipython3",
   "version": "3.11.8"
  }
 },
 "nbformat": 4,
 "nbformat_minor": 2
}
