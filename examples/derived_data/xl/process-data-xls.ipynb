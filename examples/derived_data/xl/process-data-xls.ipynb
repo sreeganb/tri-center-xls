{
 "cells": [
  {
   "cell_type": "code",
   "execution_count": 36,
   "metadata": {},
   "outputs": [],
   "source": [
    "import pandas as pd\n",
    "import numpy as np\n",
    "import math\n",
    "import itertools\n",
    "import matplotlib\n",
    "import matplotlib.pyplot as plt\n",
    "import matplotlib.gridspec as gridspec\n",
    "from mpl_toolkits.axes_grid1.inset_locator import (inset_axes, InsetPosition, mark_inset)\n",
    "import math\n",
    "import copy\n",
    "import re\n",
    "from collections import OrderedDict \n",
    "import Bio\n",
    "from Bio import SeqIO\n",
    "import xls_analysis_classes\n",
    "from xls_analysis_classes import *\n",
    "\n",
    "#from xls_analysis_classes import *\n",
    "\n",
    "matplotlib.rcParams.update({'font.size': 10})"
   ]
  },
  {
   "cell_type": "code",
   "execution_count": 40,
   "metadata": {},
   "outputs": [
    {
     "name": "stdout",
     "output_type": "stream",
     "text": [
      "Index(['Subunit A', 'XL A', 'Subunit DB', 'XL DB', 'Subunit Name A',\n",
      "       'Common/Gene Name A', 'Common/Gene Name B', 'XL Scan', 'XL RT',\n",
      "       'XL m/z', 'XL Charge', 'XL PPM', 'Corr. XL PPM', 'Corr. XL Isotope',\n",
      "       'm/z A', 'Charge A', 'Sequence A', 'Protein Mods A', 'PPM A', 'Score A',\n",
      "       'EV A', 'Ambiguous', 'Redundant', 'Subunit Names', 'Linkage Info',\n",
      "       'Redundant Count', 'Unique Count', 'CLMS-CSV'],\n",
      "      dtype='object')\n"
     ]
    }
   ],
   "source": [
    "d = pd.read_csv('./proteasome-tri-crosslinks.csv', sep = ',')\n",
    "data = pd.DataFrame(d)\n",
    "#data.insert(2, 'dummy A', 'prot1')\n",
    "#data.insert(3, 'dummy XLA', 'K1')\n",
    "data.insert(2, 'Subunit DB', 'prot1')\n",
    "data.insert(3, 'XL DB', 'K1')\n",
    "#\n",
    "data.insert(6, 'dummy B', 'prot1')\n",
    "data.insert(7, 'dummy XLB', 'K1')\n",
    "data.insert(10, 'dummy C', 'prot1')\n",
    "data.insert(11, 'dummy XLC', 'K1')\n",
    "#print(data)\n",
    "df1 = data.iloc[:, :4].join(data.iloc[:, 12:13]).join(data.iloc[:, 15:16]).join(data.iloc[:, 18:32]).join(data.iloc[:, 46:53])\n",
    "df1.insert(6, 'Common/Gene Name B', 'prot1')\n",
    "print(df1.columns)\n",
    "df2 = data.iloc[:, 4:8].join(data.iloc[:, 13:14]).join(data.iloc[:, 16:17]).join(data.iloc[:, 18:25]).join(data.iloc[:, 32:39]).join(data.iloc[:, 46:53])\n",
    "#print(df2.columns)\n",
    "df3 = data.iloc[:, 8:12].join(data.iloc[:, 14:15]).join(data.iloc[:, 17:18]).join(data.iloc[:, 18:25]).join(data.iloc[:, 39:46]).join(data.iloc[:, 46:53])\n",
    "#print(df3.columns)\n",
    "df1.to_csv('proteasome-tri-crosslinks-1.csv', index = False)\n",
    "df2.to_csv('proteasome-tri-crosslinks-2.csv', index = False)\n",
    "df3.to_csv('proteasome-tri-crosslinks-3.csv', index = False)\n",
    "#print(df3)"
   ]
  },
  {
   "cell_type": "code",
   "execution_count": 70,
   "metadata": {},
   "outputs": [
    {
     "name": "stdout",
     "output_type": "stream",
     "text": [
      "0        1\n",
      "1        5\n",
      "2        5\n",
      "3        5\n",
      "4        5\n",
      "        ..\n",
      "3433     E\n",
      "3434     E\n",
      "3435     E\n",
      "3436     E\n",
      "3437     E\n",
      "Name: Chain ID B, Length: 3096, dtype: object\n"
     ]
    }
   ],
   "source": [
    "# open a file which is down two directories and called \"definitions.txt\" and read it\n",
    "# open this file as a pandas dataframe and name the columns as genename, genericname\n",
    "heads = ['genename', 'genericname', 'chain1', 'chain2', 'subunit name']\n",
    "dnames = pd.read_csv('../../definitions.txt', names = heads)\n",
    "#-------------------------------------------------------------------------------------\n",
    "# Define a function that replaces or inserts the chain1 based on the subunit name\n",
    "#-------------------------------------------------------------------------------------\n",
    "def set_chain_id1(sname):\n",
    "    # Check if the subunit name is NaN or empty\n",
    "    if pd.isna(sname) or sname == '':\n",
    "        return None\n",
    "    # Find indices where the subunit name matches the sname\n",
    "    indices = dnames[dnames['subunit name'].str.contains(sname, na=False)].index.tolist()\n",
    "    # If there is a match, return the corresponding chain1 value\n",
    "    if indices:\n",
    "        return str(dnames.loc[indices[0], 'chain1'])\n",
    "    return None\n",
    "\n",
    "d['Chain ID A'] = d['Subunit A'].apply(set_chain_id1)\n",
    "d['Chain ID B'] = d['Subunit B'].apply(set_chain_id1)\n",
    "d['Chain ID C'] = d['Subunit C'].apply(set_chain_id1)\n",
    "print(d['Chain ID B'].dropna())\n",
    "columns_to_new = ['Chain ID A', 'XL A', 'Chain ID B', 'XL B']\n",
    "xl_AB = d[columns_to_new].dropna()\n",
    "unique_xl_AB = xl_AB.drop_duplicates()\n",
    "# Split the 'XL A' and 'XL B' columns by ';' and expand into separate rows\n",
    "unique_xl_AB = unique_xl_AB.assign(**{\n",
    "    'XL A': unique_xl_AB['XL A'].str.split(r'[;|]'),\n",
    "    'XL B': unique_xl_AB['XL B'].str.split(r'[;|]')\n",
    "}).explode('XL A').explode('XL B')\n",
    "unique_xl_AB['XL A'] = unique_xl_AB['XL A'].str.replace('K', '', regex=False)\n",
    "unique_xl_AB['XL B'] = unique_xl_AB['XL B'].str.replace('K', '', regex=False)\n",
    "# write the dataframes to csv files\n",
    "unique_xl_AB.to_csv('unique_xl_AB.csv', index=False)\n",
    "xl_AB.to_csv('xl_AB.csv', index=False)\n",
    "columns_to_new = ['Chain ID A', 'XL A', 'Chain ID C', 'XL C']\n",
    "xl_AC = d[columns_to_new].dropna()\n",
    "xl_AC.to_csv('xl_AC.csv', index=False)\n",
    "columns_to_new = ['Chain ID B', 'XL B', 'Chain ID C', 'XL C']\n",
    "xl_BC = d[columns_to_new].dropna()\n",
    "xl_BC.to_csv('xl_BC.csv', index=False)\n",
    "#------------------------------------------------------------------------------------- "
   ]
  }
 ],
 "metadata": {
  "kernelspec": {
   "display_name": "Python 3",
   "language": "python",
   "name": "python3"
  },
  "language_info": {
   "codemirror_mode": {
    "name": "ipython",
    "version": 3
   },
   "file_extension": ".py",
   "mimetype": "text/x-python",
   "name": "python",
   "nbconvert_exporter": "python",
   "pygments_lexer": "ipython3",
   "version": "3.12.4"
  }
 },
 "nbformat": 4,
 "nbformat_minor": 2
}
